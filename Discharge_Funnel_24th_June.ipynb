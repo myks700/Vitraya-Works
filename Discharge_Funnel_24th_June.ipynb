{
 "cells": [
  {
   "cell_type": "raw",
   "id": "2ff38aca-cdd6-4187-8f95-b2bf8baf3187",
   "metadata": {},
   "source": []
  },
  {
   "cell_type": "code",
   "execution_count": 1,
   "id": "c05974c5-5809-4ccd-aa91-c2dbf81d4289",
   "metadata": {},
   "outputs": [],
   "source": [
    "import pandas as pd\n",
    "import seaborn as sns\n",
    "import numpy as np\n",
    "import matplotlib.pyplot as plt"
   ]
  },
  {
   "cell_type": "code",
   "execution_count": 2,
   "id": "239d68a6-17a3-4ddb-a70a-df8706b73d7f",
   "metadata": {},
   "outputs": [],
   "source": [
    "data = pd.read_excel(\"Discharge_Funnel.xlsx\", sheet_name = 'Claim_data')\n",
    "data_1 = pd.read_excel(\"Discharge_Funnel.xlsx\", sheet_name = 'Raw_Data')"
   ]
  },
  {
   "cell_type": "code",
   "execution_count": 3,
   "id": "2026bf10-97ea-474d-b8b5-7dbbeb491111",
   "metadata": {},
   "outputs": [
    {
     "data": {
      "text/html": [
       "<div>\n",
       "<style scoped>\n",
       "    .dataframe tbody tr th:only-of-type {\n",
       "        vertical-align: middle;\n",
       "    }\n",
       "\n",
       "    .dataframe tbody tr th {\n",
       "        vertical-align: top;\n",
       "    }\n",
       "\n",
       "    .dataframe thead th {\n",
       "        text-align: right;\n",
       "    }\n",
       "</style>\n",
       "<table border=\"1\" class=\"dataframe\">\n",
       "  <thead>\n",
       "    <tr style=\"text-align: right;\">\n",
       "      <th></th>\n",
       "      <th>create_time</th>\n",
       "      <th>claim_id</th>\n",
       "      <th>patient_name</th>\n",
       "      <th>hospital_code</th>\n",
       "      <th>hospital_name</th>\n",
       "      <th>policy_number</th>\n",
       "      <th>member_no</th>\n",
       "      <th>preauth_id</th>\n",
       "      <th>procedure_name</th>\n",
       "      <th>admission_date</th>\n",
       "      <th>discharge_date</th>\n",
       "      <th>procedure_id</th>\n",
       "      <th>is_package</th>\n",
       "      <th>name</th>\n",
       "      <th>amountMatchPercentage</th>\n",
       "      <th>vitraya_result</th>\n",
       "      <th>medical_status</th>\n",
       "      <th>inscope</th>\n",
       "      <th>tariff_applied</th>\n",
       "    </tr>\n",
       "  </thead>\n",
       "  <tbody>\n",
       "    <tr>\n",
       "      <th>0</th>\n",
       "      <td>2024-06-24 21:47:19</td>\n",
       "      <td>1005422</td>\n",
       "      <td>Mr.PULAGAM REDDY</td>\n",
       "      <td>98778</td>\n",
       "      <td>Yashoda Hospital,Khanamet,Hyderabad</td>\n",
       "      <td>3.397017e+13</td>\n",
       "      <td>24041012.0</td>\n",
       "      <td>911503</td>\n",
       "      <td>PHACO WITH UNIFOCAL / UNFOLDABLE LENS\\n- I (PKG)</td>\n",
       "      <td>2024-06-24 12:32:00</td>\n",
       "      <td>2024-06-24 12:32:00</td>\n",
       "      <td>4</td>\n",
       "      <td>1</td>\n",
       "      <td>Cataract</td>\n",
       "      <td>100.0</td>\n",
       "      <td>MANUAL</td>\n",
       "      <td>NaN</td>\n",
       "      <td>0</td>\n",
       "      <td>1</td>\n",
       "    </tr>\n",
       "    <tr>\n",
       "      <th>1</th>\n",
       "      <td>2024-06-24 21:38:46</td>\n",
       "      <td>1005451</td>\n",
       "      <td>Mrs.Shrutika Srivastava</td>\n",
       "      <td>20007</td>\n",
       "      <td>Max  Super  Speciality Hospital, Vaishali</td>\n",
       "      <td>3.295156e+13</td>\n",
       "      <td>23021013.0</td>\n",
       "      <td>911540</td>\n",
       "      <td>NaN</td>\n",
       "      <td>2024-06-24 01:12:00</td>\n",
       "      <td>2024-06-24 01:12:00</td>\n",
       "      <td>0</td>\n",
       "      <td>0</td>\n",
       "      <td>NaN</td>\n",
       "      <td>100.0</td>\n",
       "      <td>MANUAL</td>\n",
       "      <td>NaN</td>\n",
       "      <td>0</td>\n",
       "      <td>1</td>\n",
       "    </tr>\n",
       "  </tbody>\n",
       "</table>\n",
       "</div>"
      ],
      "text/plain": [
       "          create_time  claim_id             patient_name  hospital_code  \\\n",
       "0 2024-06-24 21:47:19   1005422         Mr.PULAGAM REDDY          98778   \n",
       "1 2024-06-24 21:38:46   1005451  Mrs.Shrutika Srivastava          20007   \n",
       "\n",
       "                               hospital_name  policy_number   member_no  \\\n",
       "0        Yashoda Hospital,Khanamet,Hyderabad   3.397017e+13  24041012.0   \n",
       "1  Max  Super  Speciality Hospital, Vaishali   3.295156e+13  23021013.0   \n",
       "\n",
       "   preauth_id                                    procedure_name  \\\n",
       "0      911503  PHACO WITH UNIFOCAL / UNFOLDABLE LENS\\n- I (PKG)   \n",
       "1      911540                                               NaN   \n",
       "\n",
       "       admission_date      discharge_date  procedure_id  is_package      name  \\\n",
       "0 2024-06-24 12:32:00 2024-06-24 12:32:00             4           1  Cataract   \n",
       "1 2024-06-24 01:12:00 2024-06-24 01:12:00             0           0       NaN   \n",
       "\n",
       "   amountMatchPercentage vitraya_result medical_status  inscope  \\\n",
       "0                  100.0         MANUAL            NaN        0   \n",
       "1                  100.0         MANUAL            NaN        0   \n",
       "\n",
       "   tariff_applied  \n",
       "0               1  \n",
       "1               1  "
      ]
     },
     "execution_count": 3,
     "metadata": {},
     "output_type": "execute_result"
    }
   ],
   "source": [
    "data_1.head(2)"
   ]
  },
  {
   "cell_type": "code",
   "execution_count": 7,
   "id": "cc5f3786-c993-4625-8b38-40789df326e5",
   "metadata": {},
   "outputs": [],
   "source": [
    "#data.head()"
   ]
  },
  {
   "cell_type": "code",
   "execution_count": 8,
   "id": "8f8f363b-cc84-452e-b060-72e9f4a9c00e",
   "metadata": {},
   "outputs": [],
   "source": [
    "#pwd"
   ]
  },
  {
   "cell_type": "code",
   "execution_count": 4,
   "id": "4e3ce742-991b-4f27-b1a7-bcbe4aad937a",
   "metadata": {},
   "outputs": [],
   "source": [
    "Total_Discharge = data.claim_id.nunique()\n",
    "Discharge_Enable_Hospital = data_1.claim_id.nunique()\n",
    "Bill_Parsed_95_100 = data_1[(data_1['amountMatchPercentage'] >= 95) & (data_1['amountMatchPercentage'] < 100)].amountMatchPercentage.count()\n",
    "Bill_Parsed_100 = data_1[data_1['amountMatchPercentage']==100].amountMatchPercentage.count()\n",
    "Bill_Failed = Discharge_Enable_Hospital - (Bill_Parsed_95_100 + Bill_Parsed_100)\n",
    "Bill_Parsed_Succesfully = Discharge_Enable_Hospital - Bill_Failed\n",
    "Terrif_Applied = data_1[data_1['tariff_applied']==1].tariff_applied.count()\n",
    "Terrif_Failed_Claims = data_1[(data_1['tariff_applied'] == 0) & (data_1['amountMatchPercentage'] >= 95)]\n",
    "Terrif_Failed = Terrif_Failed_Claims.tariff_applied.count()"
   ]
  },
  {
   "cell_type": "code",
   "execution_count": 46,
   "id": "ab378053-fe85-4dda-901e-b449f8e37dbb",
   "metadata": {},
   "outputs": [],
   "source": []
  },
  {
   "cell_type": "code",
   "execution_count": 5,
   "id": "2cc004b6-d8dc-47c0-b80c-a4c5ce0db2fd",
   "metadata": {},
   "outputs": [],
   "source": [
    "dict_1 = {'Total_Discharge': Total_Discharge, 'Discharge_Enable_Hospital':Discharge_Enable_Hospital, 'Bill_Parsed_95_100':Bill_Parsed_95_100,\n",
    "          'Bill_Parsed_100':Bill_Parsed_100, 'Bill_Failed': Bill_Failed, 'Bill_Parsed_Succesfully': Bill_Parsed_Succesfully, 'Terrif_Applied': Terrif_Applied,\n",
    "        'Terrif_Failed': Terrif_Failed}"
   ]
  },
  {
   "cell_type": "code",
   "execution_count": 6,
   "id": "04c202d0-1ce7-4b50-876a-86ed360aaa56",
   "metadata": {},
   "outputs": [],
   "source": [
    "dt = pd.DataFrame(list(dict_1.items()), columns=['Summary', 'Figure'])\n",
    "dt.head(10)\n",
    "df = dt"
   ]
  },
  {
   "cell_type": "code",
   "execution_count": 7,
   "id": "8147c6c7-e132-4aa4-8826-57f69ff7a15b",
   "metadata": {},
   "outputs": [
    {
     "data": {
      "text/html": [
       "<div>\n",
       "<style scoped>\n",
       "    .dataframe tbody tr th:only-of-type {\n",
       "        vertical-align: middle;\n",
       "    }\n",
       "\n",
       "    .dataframe tbody tr th {\n",
       "        vertical-align: top;\n",
       "    }\n",
       "\n",
       "    .dataframe thead th {\n",
       "        text-align: right;\n",
       "    }\n",
       "</style>\n",
       "<table border=\"1\" class=\"dataframe\">\n",
       "  <thead>\n",
       "    <tr style=\"text-align: right;\">\n",
       "      <th></th>\n",
       "      <th>Summary</th>\n",
       "      <th>Figure</th>\n",
       "    </tr>\n",
       "  </thead>\n",
       "  <tbody>\n",
       "    <tr>\n",
       "      <th>0</th>\n",
       "      <td>Total_Discharge</td>\n",
       "      <td>374</td>\n",
       "    </tr>\n",
       "    <tr>\n",
       "      <th>1</th>\n",
       "      <td>Discharge_Enable_Hospital</td>\n",
       "      <td>287</td>\n",
       "    </tr>\n",
       "    <tr>\n",
       "      <th>2</th>\n",
       "      <td>Bill_Parsed_95_100</td>\n",
       "      <td>40</td>\n",
       "    </tr>\n",
       "    <tr>\n",
       "      <th>3</th>\n",
       "      <td>Bill_Parsed_100</td>\n",
       "      <td>202</td>\n",
       "    </tr>\n",
       "    <tr>\n",
       "      <th>4</th>\n",
       "      <td>Bill_Failed</td>\n",
       "      <td>45</td>\n",
       "    </tr>\n",
       "    <tr>\n",
       "      <th>5</th>\n",
       "      <td>Bill_Parsed_Succesfully</td>\n",
       "      <td>242</td>\n",
       "    </tr>\n",
       "    <tr>\n",
       "      <th>6</th>\n",
       "      <td>Terrif_Applied</td>\n",
       "      <td>237</td>\n",
       "    </tr>\n",
       "    <tr>\n",
       "      <th>7</th>\n",
       "      <td>Terrif_Failed</td>\n",
       "      <td>5</td>\n",
       "    </tr>\n",
       "  </tbody>\n",
       "</table>\n",
       "</div>"
      ],
      "text/plain": [
       "                     Summary  Figure\n",
       "0            Total_Discharge     374\n",
       "1  Discharge_Enable_Hospital     287\n",
       "2         Bill_Parsed_95_100      40\n",
       "3            Bill_Parsed_100     202\n",
       "4                Bill_Failed      45\n",
       "5    Bill_Parsed_Succesfully     242\n",
       "6             Terrif_Applied     237\n",
       "7              Terrif_Failed       5"
      ]
     },
     "execution_count": 7,
     "metadata": {},
     "output_type": "execute_result"
    }
   ],
   "source": [
    "dt"
   ]
  },
  {
   "cell_type": "code",
   "execution_count": 8,
   "id": "39f53e5c-67fb-4aa3-9744-48b87d140779",
   "metadata": {},
   "outputs": [],
   "source": [
    "dt['Percentage'] = None "
   ]
  },
  {
   "cell_type": "code",
   "execution_count": 9,
   "id": "ababeccb-ae4e-44f0-90ff-653f0af6b6bf",
   "metadata": {},
   "outputs": [
    {
     "data": {
      "text/html": [
       "<div>\n",
       "<style scoped>\n",
       "    .dataframe tbody tr th:only-of-type {\n",
       "        vertical-align: middle;\n",
       "    }\n",
       "\n",
       "    .dataframe tbody tr th {\n",
       "        vertical-align: top;\n",
       "    }\n",
       "\n",
       "    .dataframe thead th {\n",
       "        text-align: right;\n",
       "    }\n",
       "</style>\n",
       "<table border=\"1\" class=\"dataframe\">\n",
       "  <thead>\n",
       "    <tr style=\"text-align: right;\">\n",
       "      <th></th>\n",
       "      <th>Summary</th>\n",
       "      <th>Figure</th>\n",
       "      <th>Percentage</th>\n",
       "    </tr>\n",
       "  </thead>\n",
       "  <tbody>\n",
       "    <tr>\n",
       "      <th>0</th>\n",
       "      <td>Total_Discharge</td>\n",
       "      <td>374</td>\n",
       "      <td>None</td>\n",
       "    </tr>\n",
       "    <tr>\n",
       "      <th>1</th>\n",
       "      <td>Discharge_Enable_Hospital</td>\n",
       "      <td>287</td>\n",
       "      <td>None</td>\n",
       "    </tr>\n",
       "    <tr>\n",
       "      <th>2</th>\n",
       "      <td>Bill_Parsed_95_100</td>\n",
       "      <td>40</td>\n",
       "      <td>None</td>\n",
       "    </tr>\n",
       "    <tr>\n",
       "      <th>3</th>\n",
       "      <td>Bill_Parsed_100</td>\n",
       "      <td>202</td>\n",
       "      <td>None</td>\n",
       "    </tr>\n",
       "    <tr>\n",
       "      <th>4</th>\n",
       "      <td>Bill_Failed</td>\n",
       "      <td>45</td>\n",
       "      <td>None</td>\n",
       "    </tr>\n",
       "    <tr>\n",
       "      <th>5</th>\n",
       "      <td>Bill_Parsed_Succesfully</td>\n",
       "      <td>242</td>\n",
       "      <td>None</td>\n",
       "    </tr>\n",
       "    <tr>\n",
       "      <th>6</th>\n",
       "      <td>Terrif_Applied</td>\n",
       "      <td>237</td>\n",
       "      <td>None</td>\n",
       "    </tr>\n",
       "    <tr>\n",
       "      <th>7</th>\n",
       "      <td>Terrif_Failed</td>\n",
       "      <td>5</td>\n",
       "      <td>None</td>\n",
       "    </tr>\n",
       "  </tbody>\n",
       "</table>\n",
       "</div>"
      ],
      "text/plain": [
       "                     Summary  Figure Percentage\n",
       "0            Total_Discharge     374       None\n",
       "1  Discharge_Enable_Hospital     287       None\n",
       "2         Bill_Parsed_95_100      40       None\n",
       "3            Bill_Parsed_100     202       None\n",
       "4                Bill_Failed      45       None\n",
       "5    Bill_Parsed_Succesfully     242       None\n",
       "6             Terrif_Applied     237       None\n",
       "7              Terrif_Failed       5       None"
      ]
     },
     "execution_count": 9,
     "metadata": {},
     "output_type": "execute_result"
    }
   ],
   "source": [
    "dt"
   ]
  },
  {
   "cell_type": "code",
   "execution_count": 91,
   "id": "de46b299-a5ee-46e9-9b90-6a905fa058e8",
   "metadata": {},
   "outputs": [
    {
     "data": {
      "text/plain": [
       "15.6794425087108"
      ]
     },
     "execution_count": 91,
     "metadata": {},
     "output_type": "execute_result"
    }
   ],
   "source": [
    "(df['Figure'].iloc[4]/df['Figure'].iloc[1])*100"
   ]
  },
  {
   "cell_type": "code",
   "execution_count": 10,
   "id": "f0ef5079-60cf-4d8e-aa0a-7be126d69b0a",
   "metadata": {},
   "outputs": [
    {
     "name": "stderr",
     "output_type": "stream",
     "text": [
      "C:\\Users\\Vitraya1\\AppData\\Local\\Temp\\ipykernel_27684\\316229594.py:1: FutureWarning: Setting an item of incompatible dtype is deprecated and will raise in a future error of pandas. Value '15.6794425087108' has dtype incompatible with int64, please explicitly cast to a compatible dtype first.\n",
      "  df.loc[df['Summary'] == 'Bill_Failed'] = ((df['Figure'].iloc[4]/df['Figure'].iloc[1])*100)\n"
     ]
    }
   ],
   "source": [
    "df.loc[df['Summary'] == 'Bill_Failed'] = ((df['Figure'].iloc[4]/df['Figure'].iloc[1])*100)"
   ]
  },
  {
   "cell_type": "code",
   "execution_count": 11,
   "id": "f4e2abdd-6955-47d2-8cf4-2b7b1b42c679",
   "metadata": {},
   "outputs": [
    {
     "data": {
      "text/html": [
       "<div>\n",
       "<style scoped>\n",
       "    .dataframe tbody tr th:only-of-type {\n",
       "        vertical-align: middle;\n",
       "    }\n",
       "\n",
       "    .dataframe tbody tr th {\n",
       "        vertical-align: top;\n",
       "    }\n",
       "\n",
       "    .dataframe thead th {\n",
       "        text-align: right;\n",
       "    }\n",
       "</style>\n",
       "<table border=\"1\" class=\"dataframe\">\n",
       "  <thead>\n",
       "    <tr style=\"text-align: right;\">\n",
       "      <th></th>\n",
       "      <th>Summary</th>\n",
       "      <th>Figure</th>\n",
       "      <th>Percentage</th>\n",
       "    </tr>\n",
       "  </thead>\n",
       "  <tbody>\n",
       "    <tr>\n",
       "      <th>0</th>\n",
       "      <td>Total_Discharge</td>\n",
       "      <td>374.000000</td>\n",
       "      <td>None</td>\n",
       "    </tr>\n",
       "    <tr>\n",
       "      <th>1</th>\n",
       "      <td>Discharge_Enable_Hospital</td>\n",
       "      <td>287.000000</td>\n",
       "      <td>None</td>\n",
       "    </tr>\n",
       "    <tr>\n",
       "      <th>2</th>\n",
       "      <td>Bill_Parsed_95_100</td>\n",
       "      <td>40.000000</td>\n",
       "      <td>None</td>\n",
       "    </tr>\n",
       "    <tr>\n",
       "      <th>3</th>\n",
       "      <td>Bill_Parsed_100</td>\n",
       "      <td>202.000000</td>\n",
       "      <td>None</td>\n",
       "    </tr>\n",
       "    <tr>\n",
       "      <th>4</th>\n",
       "      <td>15.679443</td>\n",
       "      <td>15.679443</td>\n",
       "      <td>15.679443</td>\n",
       "    </tr>\n",
       "    <tr>\n",
       "      <th>5</th>\n",
       "      <td>Bill_Parsed_Succesfully</td>\n",
       "      <td>242.000000</td>\n",
       "      <td>None</td>\n",
       "    </tr>\n",
       "    <tr>\n",
       "      <th>6</th>\n",
       "      <td>Terrif_Applied</td>\n",
       "      <td>237.000000</td>\n",
       "      <td>None</td>\n",
       "    </tr>\n",
       "    <tr>\n",
       "      <th>7</th>\n",
       "      <td>Terrif_Failed</td>\n",
       "      <td>5.000000</td>\n",
       "      <td>None</td>\n",
       "    </tr>\n",
       "  </tbody>\n",
       "</table>\n",
       "</div>"
      ],
      "text/plain": [
       "                     Summary      Figure Percentage\n",
       "0            Total_Discharge  374.000000       None\n",
       "1  Discharge_Enable_Hospital  287.000000       None\n",
       "2         Bill_Parsed_95_100   40.000000       None\n",
       "3            Bill_Parsed_100  202.000000       None\n",
       "4                  15.679443   15.679443  15.679443\n",
       "5    Bill_Parsed_Succesfully  242.000000       None\n",
       "6             Terrif_Applied  237.000000       None\n",
       "7              Terrif_Failed    5.000000       None"
      ]
     },
     "execution_count": 11,
     "metadata": {},
     "output_type": "execute_result"
    }
   ],
   "source": [
    "df"
   ]
  },
  {
   "cell_type": "code",
   "execution_count": 62,
   "id": "31134514-76f6-4cfc-8e0a-b051d7602a15",
   "metadata": {},
   "outputs": [],
   "source": [
    "Terrif_Failed_Claims  = Terrif_Failed_Claims[['claim_id', 'hospital_code', 'hospital_name' ]]"
   ]
  },
  {
   "cell_type": "code",
   "execution_count": 63,
   "id": "129065fe-0f02-44cc-ac86-3739e59576ad",
   "metadata": {},
   "outputs": [
    {
     "data": {
      "text/html": [
       "<div>\n",
       "<style scoped>\n",
       "    .dataframe tbody tr th:only-of-type {\n",
       "        vertical-align: middle;\n",
       "    }\n",
       "\n",
       "    .dataframe tbody tr th {\n",
       "        vertical-align: top;\n",
       "    }\n",
       "\n",
       "    .dataframe thead th {\n",
       "        text-align: right;\n",
       "    }\n",
       "</style>\n",
       "<table border=\"1\" class=\"dataframe\">\n",
       "  <thead>\n",
       "    <tr style=\"text-align: right;\">\n",
       "      <th></th>\n",
       "      <th>claim_id</th>\n",
       "      <th>hospital_code</th>\n",
       "      <th>hospital_name</th>\n",
       "    </tr>\n",
       "  </thead>\n",
       "  <tbody>\n",
       "    <tr>\n",
       "      <th>3</th>\n",
       "      <td>1001055</td>\n",
       "      <td>20418</td>\n",
       "      <td>NIRMAN HOSPITAL ,SURAT ,GUJRAT</td>\n",
       "    </tr>\n",
       "    <tr>\n",
       "      <th>152</th>\n",
       "      <td>1005361</td>\n",
       "      <td>20294</td>\n",
       "      <td>Manipal Hospital Yeshwanthpur, Bengaluru</td>\n",
       "    </tr>\n",
       "    <tr>\n",
       "      <th>177</th>\n",
       "      <td>1003626</td>\n",
       "      <td>20362</td>\n",
       "      <td>Kailash Hospital and Heart Institute</td>\n",
       "    </tr>\n",
       "    <tr>\n",
       "      <th>178</th>\n",
       "      <td>1005409</td>\n",
       "      <td>20294</td>\n",
       "      <td>Manipal Hospital Yeshwanthpur, Bengaluru</td>\n",
       "    </tr>\n",
       "    <tr>\n",
       "      <th>197</th>\n",
       "      <td>1005720</td>\n",
       "      <td>20294</td>\n",
       "      <td>Manipal Hospital Yeshwanthpur, Bengaluru</td>\n",
       "    </tr>\n",
       "  </tbody>\n",
       "</table>\n",
       "</div>"
      ],
      "text/plain": [
       "     claim_id  hospital_code                             hospital_name\n",
       "3     1001055          20418            NIRMAN HOSPITAL ,SURAT ,GUJRAT\n",
       "152   1005361          20294  Manipal Hospital Yeshwanthpur, Bengaluru\n",
       "177   1003626          20362      Kailash Hospital and Heart Institute\n",
       "178   1005409          20294  Manipal Hospital Yeshwanthpur, Bengaluru\n",
       "197   1005720          20294  Manipal Hospital Yeshwanthpur, Bengaluru"
      ]
     },
     "execution_count": 63,
     "metadata": {},
     "output_type": "execute_result"
    }
   ],
   "source": [
    "Terrif_Failed_Claims"
   ]
  },
  {
   "cell_type": "markdown",
   "id": "00838a83-354f-499e-8f74-e474bcff3cd1",
   "metadata": {},
   "source": [
    "### plt.figure(figsize=(8, 6))  # Adjust the figure size if needed\n",
    "sns.barplot(x='Values', y='Variables', data=df, palette='viridis')\n",
    "plt.xlabel('Values')  # Set x-axis label\n",
    "plt.ylabel('Variables')  # Set y-axis label\n",
    "plt.title('Bar Plot of Values by Category')  # Set plot title\n",
    "plt.tight_layout()  # Ensure labels are not cut off\n",
    "plt.show()"
   ]
  },
  {
   "cell_type": "code",
   "execution_count": null,
   "id": "96d0b048-f6a4-4469-967d-760d9480e1a9",
   "metadata": {},
   "outputs": [],
   "source": []
  },
  {
   "cell_type": "code",
   "execution_count": null,
   "id": "b8902b3c-8be5-4769-9c8a-ee463c584258",
   "metadata": {},
   "outputs": [],
   "source": []
  },
  {
   "cell_type": "code",
   "execution_count": 68,
   "id": "2c920065-4a1f-440e-b612-be17e09aa3f7",
   "metadata": {},
   "outputs": [
    {
     "data": {
      "image/png": "[encoded data removed]",
      "text/plain": [
       "<Figure size 1000x300 with 1 Axes>"
      ]
     },
     "metadata": {},
     "output_type": "display_data"
    }
   ],
   "source": [
    "\n",
    "# Plotting using Seaborn (horizontal bar plot)\n",
    "plt.figure(figsize=(10, 3))  # Adjust the figure size if needed\n",
    "bars = sns.barplot(x='Figure', y='Summary', data=df, palette='viridis')\n",
    "\n",
    "# Add value annotations to each bar\n",
    "for bar in bars.patches:\n",
    "    plt.text(bar.get_width() + 5, bar.get_y() + bar.get_height() / 2, f'{bar.get_width():.0f}', \n",
    "             va='center', fontsize=10, color='black')\n",
    "\n",
    "plt.xlabel('Values', fontsize=12)  # Set x-axis label\n",
    "plt.ylabel('Variables', fontsize=12)  # Set y-axis label\n",
    "plt.title('Horizontal Bar Plot of Variables by Values', fontsize=14)  # Set plot title\n",
    "plt.tight_layout()  # Ensure labels are not cut off\n",
    "plt.show()"
   ]
  },
  {
   "cell_type": "code",
   "execution_count": null,
   "id": "b3fe384e-77a3-4864-831c-4dd03848aa35",
   "metadata": {},
   "outputs": [],
   "source": []
  }
 ],
 "metadata": {
  "kernelspec": {
   "display_name": "Python 3 (ipykernel)",
   "language": "python",
   "name": "python3"
  },
  "language_info": {
   "codemirror_mode": {
    "name": "ipython",
    "version": 3
   },
   "file_extension": ".py",
   "mimetype": "text/x-python",
   "name": "python",
   "nbconvert_exporter": "python",
   "pygments_lexer": "ipython3",
   "version": "3.11.7"
  }
 },
 "nbformat": 4,
 "nbformat_minor": 5
}
