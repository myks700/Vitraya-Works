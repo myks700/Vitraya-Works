{
 "cells": [
  {
   "cell_type": "code",
   "execution_count": 2,
   "id": "ccd47977-8984-4f6a-a87d-3550b712a2ef",
   "metadata": {},
   "outputs": [],
   "source": [
    "from selenium import webdriver\n",
    "from selenium.webdriver.chrome.service import Service\n",
    "from selenium.webdriver.common.by import By\n",
    "from selenium.webdriver.chrome.options import Options\n",
    "from selenium.webdriver.support.ui import WebDriverWait\n",
    "from selenium.webdriver.support import expected_conditions as EC\n",
    "import pandas as pd\n",
    "import time"
   ]
  },
  {
   "cell_type": "code",
   "execution_count": 3,
   "id": "3a594dd3-d53a-4d84-bbc3-602b2e0c8795",
   "metadata": {},
   "outputs": [],
   "source": [
    "# Path to your Excel file\n",
    "#excel_file_path = 'claim_ids.xlsx'\n",
    "\n",
    "# Load claim IDs from Excel\n",
    "df = pd.read_excel('differential_0.xlsx')\n"
   ]
  },
  {
   "cell_type": "code",
   "execution_count": 4,
   "id": "a3d6bdec-a5a5-43e5-ac6f-8da5422adf61",
   "metadata": {},
   "outputs": [],
   "source": [
    "claim_ids = df['claim_id'].tolist()"
   ]
  },
  {
   "cell_type": "code",
   "execution_count": null,
   "id": "d9bf8ed5-11ee-4442-ae1e-b9d750d4b6be",
   "metadata": {},
   "outputs": [],
   "source": []
  },
  {
   "cell_type": "markdown",
   "id": "27f1da6a-dd3b-46bc-ad29-8a853fccf341",
   "metadata": {},
   "source": [
    "###### # Assuming the column in your Excel file is named 'ClaimID'\n",
    "\n",
    "# Base URL\n",
    "base_url = 'https://nbhi-insurer.vitrayatech.com/DocumentDizitigation/'\n",
    "\n",
    "# Set up Chrome options\n",
    "chrome_options = Options()\n",
    "chrome_options.add_argument(\"--headless\")  # Run in headless mode for no GUI\n",
    "\n",
    "# Initialize WebDriver\n",
    "#chrome_driver_path = 'path/to/chromedriver'  # Replace with the path to your chromedriver\n",
    "#service = Service(chrome_driver_path)\n",
    "driver = webdriver.Chrome(r'')\n",
    "\n",
    "# Login credentials\n",
    "username = 'Mayank.Sharma@vitraya.com'\n",
    "password = 'Mayank@123'\n",
    "\n",
    "def login(driver, wait):\n",
    "    # Open the login page\n",
    "    driver.get('https://nbhi-insurer.vitrayatech.com/DocumentDizitigation/983262')\n",
    "    \n",
    "    # Wait for the login elements to be present\n",
    "    username_element = wait.until(EC.presence_of_element_located((By.XPATH, \"/html/body/app-root/app-home/div/div[2]/app-login/div/form/p[2]/span/input\")))\n",
    "    username_element.send_keys(username)\n",
    "    \n",
    "    password_element = wait.until(EC.presence_of_element_located((By.XPATH, \"/html/body/app-root/app-home/div/div[2]/app-login/div/form/p[3]/span/input\")))\n",
    "    password_element.send_keys(password)\n",
    "\n",
    "    login_button = wait.until(EC.element_to_be_clickable((By.XPATH, \"/html/body/app-root/app-home/div/div[2]/app-login/div/form/button\")))\n",
    "    login_button.click()\n",
    "\n",
    "    # Wait for the page to load after login\n",
    "    wait.until(EC.url_changes('https://nbhi-insurer.vitrayatech.com/DocumentDizitigation/983262'))\n",
    "\n",
    "def process_claim_id(driver, claim_id, wait):\n",
    "    try:\n",
    "        # Construct the URL from the claim ID\n",
    "        url = base_url + str(claim_id)\n",
    "\n",
    "        # Navigate to the claim URL\n",
    "        driver.get(url)\n",
    "\n",
    "        time.sleep(5)\n",
    "\n",
    "        # Wait for the element to be present\n",
    "        differential_element = wait.until(EC.presence_of_element_located((By.XPATH, '/html/body/app-root/app-max-bupa-document-digitization/div[5]/div[1]/div[1]/div[3]/p/strong')))\n",
    "        \n",
    "        # Print the differential amount\n",
    "        print(f'Claim ID: {claim_id} - Total Differential Amount:', differential_element.text)\n",
    "    \n",
    "    except Exception as e:\n",
    "        print(f'An error occurred for Claim ID {claim_id}: {e}')\n",
    "\n",
    "try:\n",
    "    # Wait object for element presence\n",
    "    wait = WebDriverWait(driver, 10)\n",
    "    \n",
    "    # Perform login\n",
    "    login(driver, wait)\n",
    "\n",
    "    # Process each claim ID\n",
    "    for claim_id in claim_ids:\n",
    "        process_claim_id(driver, claim_id, wait)\n",
    "\n",
    "finally:\n",
    "    # Close the browser\n",
    "    driver.quit()"
   ]
  },
  {
   "cell_type": "code",
   "execution_count": null,
   "id": "fe95c966-3adc-4aa6-9c7a-034247ad5dd2",
   "metadata": {},
   "outputs": [],
   "source": []
  }
 ],
 "metadata": {
  "kernelspec": {
   "display_name": "Python 3 (ipykernel)",
   "language": "python",
   "name": "python3"
  },
  "language_info": {
   "codemirror_mode": {
    "name": "ipython",
    "version": 3
   },
   "file_extension": ".py",
   "mimetype": "text/x-python",
   "name": "python",
   "nbconvert_exporter": "python",
   "pygments_lexer": "ipython3",
   "version": "3.11.7"
  }
 },
 "nbformat": 4,
 "nbformat_minor": 5
}
