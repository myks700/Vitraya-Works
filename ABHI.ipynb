{
 "cells": [
  {
   "cell_type": "code",
   "execution_count": 1,
   "id": "ec706f66-96c4-4dd9-b1d0-747abe117cc2",
   "metadata": {},
   "outputs": [],
   "source": [
    "import pandas as pd\n",
    "import numpy as np"
   ]
  },
  {
   "cell_type": "code",
   "execution_count": 2,
   "id": "5bed45f7-ee31-46ca-a901-c15a91c44f68",
   "metadata": {},
   "outputs": [],
   "source": [
    "import selenium\n",
    "from selenium import webdriver\n",
    "from selenium.webdriver.common.by import By\n",
    "from selenium.common.exceptions import NoSuchElementException, StaleElementReferenceException\n",
    "import warnings\n",
    "warnings.filterwarnings('ignore')\n",
    "import time\n",
    "import requests\n",
    "from selenium.webdriver.support.ui import WebDriverWait\n",
    "from selenium.webdriver.support import expected_conditions as EC"
   ]
  },
  {
   "cell_type": "code",
   "execution_count": 5,
   "id": "b5473617-792e-401d-9d90-c5b2fa03b584",
   "metadata": {},
   "outputs": [],
   "source": [
    "driver = webdriver.Chrome(r'')\n",
    "driver.get('https://insurer.vitraya.com/claim/1041')\n",
    "\n",
    "username_elements = driver.find_element(By.ID,\"userEmail\")\n",
    "username_elements.send_keys('mayank.abhi.prod@vitraya.com')\n",
    "\n",
    "password = driver.find_element(By.XPATH, \"/html/body/div/div[2]/div[2]/div/form/div[2]/div/input\")\n",
    "password.send_keys('V!Tr@yA@123$09#4')\n",
    "\n",
    "buttn = driver.find_element(By.XPATH, \"/html/body/div/div[2]/div[2]/div/form/button\")\n",
    "buttn.click()\n",
    "\n",
    "time.sleep(2)\n",
    "\n",
    "clc = driver.find_element(By.ID, \"panel1-header\")\n",
    "clc.click()\n",
    "\n",
    "driver.get('https://insurer.vitraya.com/claim/3862')\n",
    "\n",
    "#driver.quit()"
   ]
  },
  {
   "cell_type": "code",
   "execution_count": 9,
   "id": "d6bec8fa-125d-4386-a682-332e57f7dabe",
   "metadata": {},
   "outputs": [],
   "source": [
    "from bs4 import BeautifulSoup"
   ]
  },
  {
   "cell_type": "code",
   "execution_count": 10,
   "id": "ed153705-07ad-46e2-90af-ebce675a85b0",
   "metadata": {},
   "outputs": [
    {
     "data": {
      "text/html": [
       "<div>\n",
       "<style scoped>\n",
       "    .dataframe tbody tr th:only-of-type {\n",
       "        vertical-align: middle;\n",
       "    }\n",
       "\n",
       "    .dataframe tbody tr th {\n",
       "        vertical-align: top;\n",
       "    }\n",
       "\n",
       "    .dataframe thead th {\n",
       "        text-align: right;\n",
       "    }\n",
       "</style>\n",
       "<table border=\"1\" class=\"dataframe\">\n",
       "  <thead>\n",
       "    <tr style=\"text-align: right;\">\n",
       "      <th></th>\n",
       "      <th>Name</th>\n",
       "      <th>Bill Amount</th>\n",
       "      <th>Tariff Amount</th>\n",
       "      <th>Policy Approved Amount</th>\n",
       "      <th>Savings</th>\n",
       "    </tr>\n",
       "  </thead>\n",
       "  <tbody>\n",
       "    <tr>\n",
       "      <th>0</th>\n",
       "      <td>Room Rent</td>\n",
       "      <td>₹ 2000</td>\n",
       "      <td>₹ 1800</td>\n",
       "      <td>₹ 1404</td>\n",
       "      <td>₹ 596</td>\n",
       "    </tr>\n",
       "    <tr>\n",
       "      <th>1</th>\n",
       "      <td>Doctor Fees</td>\n",
       "      <td>₹ 4100</td>\n",
       "      <td>₹ 3600</td>\n",
       "      <td>₹ 2808</td>\n",
       "      <td>₹ 1292</td>\n",
       "    </tr>\n",
       "    <tr>\n",
       "      <th>2</th>\n",
       "      <td>Service Tax &amp; Other Taxes</td>\n",
       "      <td>₹ 670</td>\n",
       "      <td>₹ 0</td>\n",
       "      <td>₹ 0</td>\n",
       "      <td>₹ 670</td>\n",
       "    </tr>\n",
       "    <tr>\n",
       "      <th>3</th>\n",
       "      <td>Medicines &amp; Consumables</td>\n",
       "      <td>₹ 60416</td>\n",
       "      <td>₹ 57860</td>\n",
       "      <td>₹ 53232</td>\n",
       "      <td>₹ 7184</td>\n",
       "    </tr>\n",
       "    <tr>\n",
       "      <th>4</th>\n",
       "      <td>Procedure Charges</td>\n",
       "      <td>₹ 9200</td>\n",
       "      <td>₹ 8840</td>\n",
       "      <td>₹ 8840</td>\n",
       "      <td>₹ 360</td>\n",
       "    </tr>\n",
       "    <tr>\n",
       "      <th>5</th>\n",
       "      <td>Nursing Charges</td>\n",
       "      <td>₹ 300</td>\n",
       "      <td>₹ 0</td>\n",
       "      <td>₹ 0</td>\n",
       "      <td>₹ 300</td>\n",
       "    </tr>\n",
       "    <tr>\n",
       "      <th>6</th>\n",
       "      <td>Taxes &amp; Miscellaneous Charges</td>\n",
       "      <td>₹ 3000</td>\n",
       "      <td>₹ 3000</td>\n",
       "      <td>₹ 2340</td>\n",
       "      <td>₹ 660</td>\n",
       "    </tr>\n",
       "    <tr>\n",
       "      <th>7</th>\n",
       "      <td>Investigation Charges</td>\n",
       "      <td>₹ 5200</td>\n",
       "      <td>₹ 3580</td>\n",
       "      <td>₹ 2792</td>\n",
       "      <td>₹ 2407</td>\n",
       "    </tr>\n",
       "  </tbody>\n",
       "</table>\n",
       "</div>"
      ],
      "text/plain": [
       "                            Name Bill Amount Tariff Amount  \\\n",
       "0                      Room Rent      ₹ 2000        ₹ 1800   \n",
       "1                    Doctor Fees      ₹ 4100        ₹ 3600   \n",
       "2      Service Tax & Other Taxes       ₹ 670           ₹ 0   \n",
       "3        Medicines & Consumables     ₹ 60416       ₹ 57860   \n",
       "4              Procedure Charges      ₹ 9200        ₹ 8840   \n",
       "5                Nursing Charges       ₹ 300           ₹ 0   \n",
       "6  Taxes & Miscellaneous Charges      ₹ 3000        ₹ 3000   \n",
       "7          Investigation Charges      ₹ 5200        ₹ 3580   \n",
       "\n",
       "  Policy Approved Amount Savings  \n",
       "0                 ₹ 1404   ₹ 596  \n",
       "1                 ₹ 2808  ₹ 1292  \n",
       "2                    ₹ 0   ₹ 670  \n",
       "3                ₹ 53232  ₹ 7184  \n",
       "4                 ₹ 8840   ₹ 360  \n",
       "5                    ₹ 0   ₹ 300  \n",
       "6                 ₹ 2340   ₹ 660  \n",
       "7                 ₹ 2792  ₹ 2407  "
      ]
     },
     "execution_count": 10,
     "metadata": {},
     "output_type": "execute_result"
    }
   ],
   "source": [
    "soup = BeautifulSoup(driver.page_source, 'lxml')\n",
    "tables = soup.find_all('td') \n",
    "time.sleep(2)\n",
    "Summary = pd.read_html(driver.page_source)[0].iloc[:, 0:]\n",
    "Summary"
   ]
  },
  {
   "cell_type": "code",
   "execution_count": 17,
   "id": "eea896a8-f10c-4d34-bb97-7a499342f309",
   "metadata": {},
   "outputs": [],
   "source": [
    "btn = driver.find_element(By.XPATH, '/html/body/div[1]/div[2]/div/div[2]/div[2]/div[1]/div/div/div/div/button[5]')\n",
    "btn.click()\n",
    "soup = BeautifulSoup(driver.page_source, 'lxml')\n",
    "tables = soup.find_all('td') \n",
    "Policy_Rule = pd.read_html(driver.page_source)[0].iloc[:, 1:]\n",
    "Policy_Rule"
   ]
  },
  {
   "cell_type": "code",
   "execution_count": null,
   "id": "39e6494f-8a6f-4537-9c58-45dff17bdf59",
   "metadata": {},
   "outputs": [],
   "source": []
  },
  {
   "cell_type": "code",
   "execution_count": 21,
   "id": "a0ddcb10-4d1e-40db-8038-451ab9dab758",
   "metadata": {},
   "outputs": [],
   "source": [
    "btn_1 = driver.find_element(By.XPATH, '/html/body/div[1]/div[2]/div/div[2]/div[2]/div[1]/div/div/div/div/button[3]')\n",
    "btn_1.click()"
   ]
  },
  {
   "cell_type": "code",
   "execution_count": null,
   "id": "c7ff3405-9e08-4d86-a07d-12e3b01cc71d",
   "metadata": {},
   "outputs": [],
   "source": [
    "all_data = []  # List to store all scraped data\n",
    "\n",
    "while True:\n",
    "    # Parse current page with BeautifulSoup\n",
    "    soup = BeautifulSoup(driver.page_source, 'lxml')\n",
    "    tables = soup.find_all('td')\n",
    "    teriff = pd.read_html(driver.page_source)[0].iloc[:, 1:11]  # Adjust as per your actual data structure\n",
    "\n",
    "    # Append current page's data to the main list\n",
    "    all_data.append(teriff)\n",
    "\n",
    "    # Check if there is a next page button and click it if available\n",
    "    try:\n",
    "        next_button = WebDriverWait(driver, 10).until(\n",
    "            EC.element_to_be_clickable((By.XPATH, '/html/body/div[1]/div[2]/div/div[2]/div[2]/div[2]/div[2]/div/div/div[2]/div/div[3]/button[3]'))  # Adjust XPath as per your next page button\n",
    "        )\n",
    "        next_button.click()\n",
    "        # Optionally add a small delay to ensure the next page loads fully\n",
    "        time.sleep(2)  # Adjust as necessary\n",
    "    except Exception as e:\n",
    "        print(f\"End of pagination: {e}\")\n",
    "        break  # Exit loop if no more next page button found\n",
    "\n",
    "# Concatenate all collected data into a single DataFrame\n",
    "teriff = pd.concat(all_data, ignore_index=True)\n",
    "\n",
    "# Print or do further processing with the final_data DataFrame\n",
    "#print(final_data)\n",
    "\n"
   ]
  },
  {
   "cell_type": "code",
   "execution_count": null,
   "id": "9a72aa29-dc10-480c-9c08-485573d42ecf",
   "metadata": {},
   "outputs": [],
   "source": [
    "# Specify the file path for the Excel file\n",
    "excel_file = '3862.xlsx'\n",
    "\n",
    "# Create an ExcelWriter object\n",
    "with pd.ExcelWriter(excel_file, engine='xlsxwriter') as writer:\n",
    "    # Write each DataFrame to a different sheet\n",
    "    teriff.to_excel(writer, sheet_name='Teriff', index=False)\n",
    "    Summary.to_excel(writer, sheet_name='Summary', index=False)\n",
    "    Policy_Rule.to_excel(writer, sheet_name='Policy Rule', index=False)\n",
    "\n",
    "print(f'Data saved to {excel_file}')\n"
   ]
  },
  {
   "cell_type": "code",
   "execution_count": 22,
   "id": "01d7a4f8-7b21-4ac2-b4df-7e96e98ac4e0",
   "metadata": {},
   "outputs": [],
   "source": [
    "#soup = BeautifulSoup(driver.page_source, 'lxml')\n",
    "#tables = soup.find_all('td')\n",
    "#Teriff = pd.read_html(driver.page_source)[0].iloc[:, 1:11]"
   ]
  },
  {
   "cell_type": "code",
   "execution_count": 23,
   "id": "06cc422d-da71-4a36-812a-013fd561ae68",
   "metadata": {},
   "outputs": [],
   "source": [
    "#Teriff"
   ]
  },
  {
   "cell_type": "code",
   "execution_count": null,
   "id": "700705f8-192f-4384-9397-03fca36ff086",
   "metadata": {},
   "outputs": [],
   "source": []
  },
  {
   "cell_type": "code",
   "execution_count": null,
   "id": "f94dfb72-2845-49c0-b9de-45273b1a9f18",
   "metadata": {},
   "outputs": [],
   "source": []
  },
  {
   "cell_type": "code",
   "execution_count": 6,
   "id": "f5c58a3d-4663-4b6a-8228-a761fb01d575",
   "metadata": {},
   "outputs": [],
   "source": [
    "#teriff.head(50)"
   ]
  },
  {
   "cell_type": "code",
   "execution_count": null,
   "id": "d620d058-0e79-418a-b0a0-542b9af52942",
   "metadata": {},
   "outputs": [],
   "source": [
    "\n",
    "\n"
   ]
  },
  {
   "cell_type": "code",
   "execution_count": null,
   "id": "05a95de2-5787-4e6f-9c06-33532cd60404",
   "metadata": {},
   "outputs": [],
   "source": [
    "#pip install xlsxwriter\n"
   ]
  },
  {
   "cell_type": "code",
   "execution_count": null,
   "id": "059356e3-a749-4095-a58d-f42981e5db5a",
   "metadata": {},
   "outputs": [],
   "source": []
  },
  {
   "cell_type": "code",
   "execution_count": null,
   "id": "0597cc4d-3f34-48c2-bd3c-eca9e01cc9ef",
   "metadata": {},
   "outputs": [],
   "source": []
  },
  {
   "cell_type": "code",
   "execution_count": null,
   "id": "6bcd7d83-d27e-4dc9-bbf4-4a68b978dc78",
   "metadata": {},
   "outputs": [],
   "source": []
  },
  {
   "cell_type": "code",
   "execution_count": null,
   "id": "8679f7cb-e48f-421b-959d-e44aa311a596",
   "metadata": {},
   "outputs": [],
   "source": []
  },
  {
   "cell_type": "code",
   "execution_count": null,
   "id": "739dc590-183f-4dcb-9dfe-80ef0152e7c3",
   "metadata": {},
   "outputs": [],
   "source": []
  },
  {
   "cell_type": "code",
   "execution_count": null,
   "id": "f453a9f6-d7b8-47b7-8766-33b28d3883a4",
   "metadata": {},
   "outputs": [],
   "source": []
  },
  {
   "cell_type": "code",
   "execution_count": null,
   "id": "052d2188-0f67-4200-ba4c-a1890e38e2fd",
   "metadata": {},
   "outputs": [],
   "source": []
  }
 ],
 "metadata": {
  "kernelspec": {
   "display_name": "Python 3 (ipykernel)",
   "language": "python",
   "name": "python3"
  },
  "language_info": {
   "codemirror_mode": {
    "name": "ipython",
    "version": 3
   },
   "file_extension": ".py",
   "mimetype": "text/x-python",
   "name": "python",
   "nbconvert_exporter": "python",
   "pygments_lexer": "ipython3",
   "version": "3.11.7"
  }
 },
 "nbformat": 4,
 "nbformat_minor": 5
}
