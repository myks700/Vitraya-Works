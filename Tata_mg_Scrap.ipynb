{
 "cells": [
  {
   "cell_type": "code",
   "execution_count": 1,
   "id": "e90cb6c0-48d3-43be-87e4-15ced5dbda1c",
   "metadata": {},
   "outputs": [],
   "source": [
    "import selenium\n",
    "from selenium import webdriver\n",
    "from selenium.webdriver.common.by import By\n",
    "from selenium.common.exceptions import NoSuchElementException, StaleElementReferenceException\n",
    "import warnings\n",
    "warnings.filterwarnings('ignore')\n",
    "import time\n",
    "import requests\n",
    "from selenium.webdriver.support.ui import WebDriverWait\n",
    "from selenium.webdriver.support import expected_conditions as EC\n",
    "import pandas as pd"
   ]
  },
  {
   "cell_type": "code",
   "execution_count": null,
   "id": "9a6ed930-c854-46e3-8473-56280e8c7544",
   "metadata": {},
   "outputs": [],
   "source": []
  },
  {
   "cell_type": "code",
   "execution_count": null,
   "id": "434eb0f3-84d4-415b-b3e5-ecd6a1af5c56",
   "metadata": {},
   "outputs": [],
   "source": []
  },
  {
   "cell_type": "code",
   "execution_count": 2,
   "id": "8a086fd1-6d65-4497-ae6c-126ca410327b",
   "metadata": {},
   "outputs": [],
   "source": [
    "from selenium import webdriver\n",
    "from selenium.webdriver.common.by import By\n",
    "import time\n",
    "import pandas as pd\n",
    "\n",
    "# Initialize Chrome WebDriver\n",
    "driver = webdriver.Chrome()\n",
    "\n",
    "# URL of the first page\n",
    "base_url = \"https://www.1mg.com/drugs-all-medicines\"\n",
    "\n",
    "lists = []\n",
    "\n",
    "# Loop through 5 pages\n",
    "for page in range(1, 3):  # Fetching 5 pages\n",
    "    url = f\"{base_url}?page={page}\"\n",
    "    driver.get(url)\n",
    "    \n",
    "    # Wait for the page to load (adjust the sleep time as needed)\n",
    "    time.sleep(3)\n",
    "    \n",
    "    # Find elements for name and storage\n",
    "    names = driver.find_elements(By.XPATH, '//div[@class=\"style__font-bold___1k9Dl style__font-14px___YZZrf style__flex-row___2AKyf style__space-between___2mbvn style__padding-bottom-5px___2NrDR\"]')\n",
    "    storages = driver.find_elements(By.XPATH, '//div[@class=\"style__flex-column___1zNVy style__font-12px___2ru_e\"]')\n",
    "    salt = driver.find_elements(By.XPATH, '//div[@class=\"style__font-12px___2ru_e style__product-content___5PFBW style__display-inline-block___2y7gd\"]')\n",
    "    # Check if lengths match\n",
    "    if len(names) != len(storages):\n",
    "        print(f\"Error on page {page}: Lengths of names and storages do not match.\")\n",
    "        continue\n",
    "    \n",
    "    # Append data to lists\n",
    "    for name_elem, storage_elem, salt_elem in zip(names, storages, salt):\n",
    "        name = name_elem.text.strip()\n",
    "        storage = storage_elem.text.strip()\n",
    "        salt = salt_elem.text.strip()\n",
    "        lists.append([name, storage, salt])\n",
    "    \n",
    "# Close the WebDriver\n",
    "driver.quit()\n",
    "\n",
    "# Create a DataFrame\n",
    "df = pd.DataFrame(lists, columns=['Name', 'Storage', 'Salt'])\n",
    "\n",
    "# Print the DataFrame\n",
    "#print(df.head())  # Print first few rows of the DataFrame\n"
   ]
  },
  {
   "cell_type": "code",
   "execution_count": 36,
   "id": "fb901204-28f9-4b70-a608-aadc16a1a357",
   "metadata": {},
   "outputs": [
    {
     "name": "stdout",
     "output_type": "stream",
     "text": [
      "Error occurred: Message: no such window: target window already closed\n",
      "from unknown error: web view not found\n",
      "  (Session info: chrome=126.0.6478.127)\n",
      "Stacktrace:\n",
      "\tGetHandleVerifier [0x00007FF623CDEEA2+31554]\n",
      "\t(No symbol) [0x00007FF623C57ED9]\n",
      "\t(No symbol) [0x00007FF623B1872A]\n",
      "\t(No symbol) [0x00007FF623AED995]\n",
      "\t(No symbol) [0x00007FF623B944D7]\n",
      "\t(No symbol) [0x00007FF623BAC051]\n",
      "\t(No symbol) [0x00007FF623B8CDD3]\n",
      "\t(No symbol) [0x00007FF623B5A33B]\n",
      "\t(No symbol) [0x00007FF623B5AED1]\n",
      "\tGetHandleVerifier [0x00007FF623FE8B1D+3217341]\n",
      "\tGetHandleVerifier [0x00007FF624035AE3+3532675]\n",
      "\tGetHandleVerifier [0x00007FF62402B0E0+3489152]\n",
      "\tGetHandleVerifier [0x00007FF623D8E776+750614]\n",
      "\t(No symbol) [0x00007FF623C6375F]\n",
      "\t(No symbol) [0x00007FF623C5EB14]\n",
      "\t(No symbol) [0x00007FF623C5ECA2]\n",
      "\t(No symbol) [0x00007FF623C4E16F]\n",
      "\tBaseThreadInitThunk [0x00007FFD5FC8257D+29]\n",
      "\tRtlUserThreadStart [0x00007FFD60B2AF28+40]\n",
      "\n"
     ]
    }
   ],
   "source": [
    "from selenium import webdriver\n",
    "from selenium.webdriver.common.by import By\n",
    "import time\n",
    "import pandas as pd\n",
    "\n",
    "# Initialize Chrome WebDriver\n",
    "driver = webdriver.Chrome()\n",
    "\n",
    "# Base URL for medications starting with 'F'\n",
    "base_url = \"https://www.1mg.com/drugs-all-medicines?label=x\"\n",
    "\n",
    "lists = []\n",
    "\n",
    "# Function to scrape data from current page\n",
    "def scrape_current_page():\n",
    "    # Find elements for name, storage, and salt\n",
    "    names = driver.find_elements(By.XPATH, '//div[@class=\"style__font-bold___1k9Dl style__font-14px___YZZrf style__flex-row___2AKyf style__space-between___2mbvn style__padding-bottom-5px___2NrDR\"]')\n",
    "    storages = driver.find_elements(By.XPATH, '//div[@class=\"style__flex-column___1zNVy style__font-12px___2ru_e\"]')\n",
    "    salts = driver.find_elements(By.XPATH, '//div[@class=\"style__font-12px___2ru_e style__product-content___5PFBW style__display-inline-block___2y7gd\"]')\n",
    "    \n",
    "    # Check if lengths match\n",
    "    if len(names) != len(storages) or len(names) != len(salts):\n",
    "        print(f\"Error on current page: Lengths of names, storages, and salts do not match.\")\n",
    "        return\n",
    "    \n",
    "    # Append data to lists\n",
    "    for name_elem, storage_elem, salt_elem in zip(names, storages, salts):\n",
    "        name = name_elem.text.strip()\n",
    "        storage = storage_elem.text.strip()\n",
    "        salt = salt_elem.text.strip()\n",
    "        lists.append([name, storage, salt])\n",
    "\n",
    "# Navigate through each page\n",
    "try:\n",
    "    driver.get(base_url)\n",
    "    time.sleep(3)  # Wait for the initial page to load\n",
    "    \n",
    "    # Scrape data from the first page\n",
    "    scrape_current_page()\n",
    "    \n",
    "    # Loop through remaining pages (up to 3 pages)\n",
    "    for page in range(1, 334):  # Start from page 2 and go up to page 3\n",
    "        # Construct URL for next page\n",
    "        next_url = f\"{base_url}&page={page}\"\n",
    "        \n",
    "        driver.get(next_url)\n",
    "        time.sleep(3)  # Wait for the page to load\n",
    "        \n",
    "        # Scrape data from current page\n",
    "        scrape_current_page()\n",
    "        \n",
    "except Exception as e:\n",
    "    print(f\"Error occurred: {str(e)}\")\n",
    "\n",
    "finally:\n",
    "    # Close the WebDriver\n",
    "    \n",
    "    driver.quit()\n",
    "\n",
    "    # Create a DataFrame\n",
    "    df_B = pd.DataFrame(lists, columns=['Name', 'Storage', 'Salt'])\n",
    "    \n",
    "    # Print the DataFrame\n",
    "    ##print(df_B.head())  # Print first few rows of the DataFrame\n"
   ]
  },
  {
   "cell_type": "code",
   "execution_count": null,
   "id": "3b612061-ce07-490c-8b82-108c51ab2a92",
   "metadata": {},
   "outputs": [],
   "source": []
  },
  {
   "cell_type": "code",
   "execution_count": 37,
   "id": "d928b06f-a431-48e8-a0f6-6990b33ddd99",
   "metadata": {},
   "outputs": [
    {
     "name": "stdout",
     "output_type": "stream",
     "text": [
      "Data saved to Tata_X.xlsx\n"
     ]
    }
   ],
   "source": [
    "name = df_B['Name'].str.split('\\n', expand=True)\n",
    "name.rename(columns={0: 'Name', 1: 'MRP'}, inplace = True)\n",
    "storage = df_B['Storage'].str.split('\\n', expand=True)\n",
    "storage.rename(columns={0: 'Qty', 1: 'Company'}, inplace = True)\n",
    "salt = df_B.iloc[:,2:]\n",
    "data_a = pd.concat([name, storage, salt\n",
    "          ], axis=1)\n",
    "\n",
    "# Save to Excel\n",
    "excel_file = 'Tata_X.xlsx'\n",
    "data_a.to_excel(excel_file, index=False)\n",
    "\n",
    "print(f\"Data saved to {excel_file}\")"
   ]
  },
  {
   "cell_type": "code",
   "execution_count": 23,
   "id": "37279733-1e61-4057-972d-35ad0f162c5a",
   "metadata": {},
   "outputs": [],
   "source": []
  },
  {
   "cell_type": "code",
   "execution_count": 24,
   "id": "bcfbd76a-517b-41ba-984b-ab45fe5e6fac",
   "metadata": {},
   "outputs": [],
   "source": []
  },
  {
   "cell_type": "code",
   "execution_count": 25,
   "id": "6e91fb0f-2355-4a7b-9a80-16c582ea61aa",
   "metadata": {},
   "outputs": [],
   "source": []
  },
  {
   "cell_type": "code",
   "execution_count": 26,
   "id": "75b02aed-9ca9-415f-b4ff-a358eecb1573",
   "metadata": {},
   "outputs": [
    {
     "name": "stdout",
     "output_type": "stream",
     "text": [
      "Data saved to Tata_F.xlsx\n"
     ]
    }
   ],
   "source": []
  },
  {
   "cell_type": "code",
   "execution_count": null,
   "id": "499586ad-452e-40f8-bb01-78fac07bcaaf",
   "metadata": {},
   "outputs": [],
   "source": []
  }
 ],
 "metadata": {
  "kernelspec": {
   "display_name": "Python 3 (ipykernel)",
   "language": "python",
   "name": "python3"
  },
  "language_info": {
   "codemirror_mode": {
    "name": "ipython",
    "version": 3
   },
   "file_extension": ".py",
   "mimetype": "text/x-python",
   "name": "python",
   "nbconvert_exporter": "python",
   "pygments_lexer": "ipython3",
   "version": "3.11.7"
  }
 },
 "nbformat": 4,
 "nbformat_minor": 5
}
